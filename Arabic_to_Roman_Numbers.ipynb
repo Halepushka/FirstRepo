{
 "cells": [
  {
   "cell_type": "code",
   "execution_count": null,
   "metadata": {},
   "outputs": [],
   "source": [
    "#### FINAL VERSION, WORKS FOR 1-3000\n",
    "\n",
    "while True:\n",
    "    n = int(input( \"Please enter a number to convert to roman numbers, up to 3000 only \"))\n",
    "    if n not in range (1,3001):\n",
    "        print (\"Wrong number, only 1-3000 are supported. Please try again!\")\n",
    "        continue\n",
    "    roman_number = []\n",
    "    if n >=1000:\n",
    "        m = n//1000\n",
    "        n = n%1000\n",
    "        roman_number.append('M'*m)\n",
    "    if n>=500:\n",
    "        d = n//500\n",
    "        n = n%500\n",
    "        roman_number.append('D'*d)\n",
    "    if n>=100:\n",
    "        c = n//100\n",
    "        n = n%100\n",
    "        roman_number.append('C'*c)\n",
    "    if n>=50:\n",
    "        l = n//50\n",
    "        n = n%50\n",
    "        roman_number.append('L'*l)\n",
    "    if n>= 10:\n",
    "        x = n//10\n",
    "        n=n%10\n",
    "        roman_number.append('X'*x)\n",
    "    if n>= 5:\n",
    "        v = n//5\n",
    "        n = n%5\n",
    "        roman_number.append ('V'*v)\n",
    "    roman_number.append('I'*n)\n",
    "    print (''.join(roman_number))\n",
    "    break"
   ]
  },
  {
   "cell_type": "code",
   "execution_count": null,
   "metadata": {},
   "outputs": [],
   "source": []
  },
  {
   "cell_type": "code",
   "execution_count": null,
   "metadata": {},
   "outputs": [],
   "source": []
  },
  {
   "cell_type": "code",
   "execution_count": null,
   "metadata": {},
   "outputs": [],
   "source": []
  }
 ],
 "metadata": {
  "kernelspec": {
   "display_name": "Python 3",
   "language": "python",
   "name": "python3"
  },
  "language_info": {
   "codemirror_mode": {
    "name": "ipython",
    "version": 3
   },
   "file_extension": ".py",
   "mimetype": "text/x-python",
   "name": "python",
   "nbconvert_exporter": "python",
   "pygments_lexer": "ipython3",
   "version": "3.7.3"
  }
 },
 "nbformat": 4,
 "nbformat_minor": 2
}
