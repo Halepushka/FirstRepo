{
 "cells": [
  {
   "cell_type": "code",
   "execution_count": null,
   "metadata": {},
   "outputs": [],
   "source": [
    "#Fizz Buzz\n",
    "#Write a program that prints the numbers from 1 to 100. \n",
    "#But for multiples of three print “Fizz” instead of the number and for the multiples of five print “Buzz”. \n",
    "#For numbers which are multiples of both three and five print “FizzBuzz”.\n",
    "\n",
    "###READY AND COMPLETE\n",
    "\n",
    "my_list = []\n",
    "for n in range (1,101):\n",
    "    my_list.append(n)\n",
    "for number in my_list:\n",
    "    if number%3 == 0 and number%5 == 0:\n",
    "        print ('FizzBuzz')\n",
    "    elif number%3 == 0:\n",
    "        print (\"Fizz\")\n",
    "    elif number%5 == 0:\n",
    "        print ('Buzz')\n",
    "    else:\n",
    "        print (number)"
   ]
  },
  {
   "cell_type": "code",
   "execution_count": null,
   "metadata": {},
   "outputs": [],
   "source": [
    "#Pig Latin - Pig Latin is a game of alterations played on the English language game.\n",
    "#To create the Pig Latin form of an English word \n",
    "#the initial consonant sound is transposed to the end of the word and an ay is affixed \n",
    "#Ex.: \"banana\" would yield anana-bay). Read Wikipedia for more information on rules.\n",
    "\n",
    "### NEEDS IMPROVEMENT: TO MAKE IT A LOOP\n",
    "### MUTE H IN THE BEGINNING NOT COVERED \"honest\" = \"honestay\"\n",
    "\n",
    "vowels_list = ['a', 'o', 'e', 'i', 'u']\n",
    "def pig_latin (word):\n",
    "    if word[0] in vowels_list:\n",
    "        new_word = word +'ay'\n",
    "    elif word[1] in vowels_list:\n",
    "        new_word = word[1:-1] + word[0] +'ay'\n",
    "    elif word[2] in vowels_list:\n",
    "        new_word = word[2:-1] + word[0] +word[1] +'ay'\n",
    "    elif word[3] in vowels_list:\n",
    "        new_word = word[3:-1] + word[0] +word[1] + word [2] +'ay'\n",
    "    return new_word\n",
    "pig_latin ('string')"
   ]
  },
  {
   "cell_type": "code",
   "execution_count": 1,
   "metadata": {},
   "outputs": [
    {
     "name": "stdout",
     "output_type": "stream",
     "text": [
      "Found a vowel! It's i\n",
      "Found a vowel! It's i\n",
      "Found a vowel! It's e\n"
     ]
    }
   ],
   "source": [
    "#Count Vowels\n",
    "#Enter a string and the program reports vowels in the text. \n",
    "\n",
    "\n",
    "vowels_list = ['a', 'o', 'e', 'i', 'u']\n",
    "def found_vowel (text):\n",
    "    for element in text:\n",
    "        if element.lower() in vowels_list:\n",
    "            print (\"Found a vowel! It's {}\".format (element))\n",
    "found_vowel (\"This is my test\")"
   ]
  },
  {
   "cell_type": "code",
   "execution_count": 2,
   "metadata": {},
   "outputs": [
    {
     "data": {
      "text/plain": [
       "True"
      ]
     },
     "execution_count": 2,
     "metadata": {},
     "output_type": "execute_result"
    }
   ],
   "source": [
    "###Check if Palindrome \n",
    "###Checks if the string entered by the user is a palindrome\n",
    "###That is that it reads the same forwards as backwards like “racecar”\n",
    "\n",
    "def pallindrome_check(user_string):\n",
    "    return user_string[::-1].lower() == user_string.lower ()\n",
    "pallindrome_check('racecar')"
   ]
  },
  {
   "cell_type": "code",
   "execution_count": 3,
   "metadata": {},
   "outputs": [
    {
     "data": {
      "text/plain": [
       "5"
      ]
     },
     "execution_count": 3,
     "metadata": {},
     "output_type": "execute_result"
    }
   ],
   "source": [
    "###Count Words in a String\n",
    "###Counts the number of individual words in a string.\n",
    "###For added complexity read these strings in from a text file and generate a summary.\n",
    "\n",
    "def count_words(my_string):\n",
    "    my_list = my_string.split()\n",
    "    return len(my_list)\n",
    "\n",
    "count_words('This is my sample sentence.')"
   ]
  },
  {
   "cell_type": "code",
   "execution_count": null,
   "metadata": {},
   "outputs": [],
   "source": []
  }
 ],
 "metadata": {
  "kernelspec": {
   "display_name": "Python 3",
   "language": "python",
   "name": "python3"
  },
  "language_info": {
   "codemirror_mode": {
    "name": "ipython",
    "version": 3
   },
   "file_extension": ".py",
   "mimetype": "text/x-python",
   "name": "python",
   "nbconvert_exporter": "python",
   "pygments_lexer": "ipython3",
   "version": "3.7.3"
  }
 },
 "nbformat": 4,
 "nbformat_minor": 2
}
